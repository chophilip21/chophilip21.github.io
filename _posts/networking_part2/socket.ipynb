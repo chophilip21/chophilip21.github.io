{
 "cells": [
  {
   "cell_type": "code",
   "execution_count": null,
   "metadata": {},
   "outputs": [],
   "source": [
    "from socket import *\n",
    "serverName = ’hostname’\n",
    "serverPort = 12000\n",
    "clientSocket = socket(AF_INET, SOCK_DGRAM)\n",
    "message = input(’Input lowercase sentence:’)\n",
    "clientSocket.sendto(message.encode(),(serverName, serverPort))\n",
    "modifiedMessage, serverAddress = clientSocket.recvfrom(2048)\n",
    "print(modifiedMessage.decode())\n",
    "clientSocket.close()"
   ]
  }
 ],
 "metadata": {
  "kernelspec": {
   "display_name": "Python 3",
   "language": "python",
   "name": "python3"
  },
  "language_info": {
   "name": "python",
   "version": "3.9.2"
  },
  "orig_nbformat": 4
 },
 "nbformat": 4,
 "nbformat_minor": 2
}
