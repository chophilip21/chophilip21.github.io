{
 "cells": [
  {
   "cell_type": "code",
   "execution_count": null,
   "metadata": {},
   "outputs": [],
   "source": [
    "from multiprocessing import cpu_count\n",
    "\n",
    "print(f'checking cpu count {cpu_count()}')"
   ]
  },
  {
   "cell_type": "code",
   "execution_count": 7,
   "metadata": {},
   "outputs": [
    {
     "name": "stdout",
     "output_type": "stream",
     "text": [
      "process 3020: Sleeping for 1 seconds \n",
      "\n",
      "Program finished in 0.012 seconds\n",
      "process 3023: Sleeping for 1 seconds \n",
      "\n"
     ]
    },
    {
     "name": "stdout",
     "output_type": "stream",
     "text": [
      "process 3020 Finished sleeping \n",
      "\n",
      "process 3023 Finished sleeping \n",
      "\n"
     ]
    }
   ],
   "source": [
    "import time\n",
    "import multiprocessing as mp\n",
    "\n",
    "def sleep(sleep_sec=1):\n",
    "    process = mp.current_process()\n",
    "    pid = process.pid\n",
    "    print(f'process {pid}: Sleeping for {sleep_sec} seconds \\n')\n",
    "    time.sleep(sleep_sec)\n",
    "    print(f'process {pid} Finished sleeping \\n')\n",
    "\n",
    "# create two process\n",
    "start_time = time.perf_counter()\n",
    "p1 = mp.Process(target=sleep)\n",
    "p2 = mp.Process(target=sleep)\n",
    "\n",
    "# Starts both processes\n",
    "p1.start()\n",
    "p2.start()\n",
    "\n",
    "# start both process\n",
    "finish_time = time.perf_counter()\n",
    "\n",
    "# This must be called from the parent process\n",
    "if mp.current_process().name == 'MainProcess':\n",
    "    print(f\"Program finished in {(finish_time - start_time):.3f} seconds\")"
   ]
  },
  {
   "cell_type": "code",
   "execution_count": null,
   "metadata": {},
   "outputs": [],
   "source": [
    "import time\n",
    "import multiprocessing as mp\n",
    "\n",
    "def sleep(sleep_sec=1):\n",
    "    process = mp.current_process()\n",
    "    pid = process.pid\n",
    "    print(f'process {pid}: Sleeping for {sleep_sec} seconds \\n')\n",
    "    time.sleep(sleep_sec)\n",
    "    print(f'process {pid} Finished sleeping \\n')\n",
    "\n",
    "# create two process\n",
    "start_time = time.perf_counter()\n",
    "p1 = mp.Process(target=sleep)\n",
    "p2 = mp.Process(target=sleep)\n",
    "\n",
    "# Starts both processes\n",
    "p1.start()\n",
    "p2.start()\n",
    "\n",
    "# start both process\n",
    "finish_time = time.perf_counter()\n",
    "\n",
    "# This must be called from the parent process\n",
    "if mp.current_process().name == 'MainProcess':\n",
    "    print(f\"Program finished in {(finish_time - start_time):.3f} seconds\")"
   ]
  }
 ],
 "metadata": {
  "kernelspec": {
   "display_name": "Python 3",
   "language": "python",
   "name": "python3"
  },
  "language_info": {
   "codemirror_mode": {
    "name": "ipython",
    "version": 3
   },
   "file_extension": ".py",
   "mimetype": "text/x-python",
   "name": "python",
   "nbconvert_exporter": "python",
   "pygments_lexer": "ipython3",
   "version": "3.10.6"
  },
  "orig_nbformat": 4
 },
 "nbformat": 4,
 "nbformat_minor": 2
}
