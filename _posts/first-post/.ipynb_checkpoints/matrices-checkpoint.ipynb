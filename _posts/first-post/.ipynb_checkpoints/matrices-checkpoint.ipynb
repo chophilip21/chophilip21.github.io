{
 "cells": [
  {
   "cell_type": "markdown",
   "metadata": {},
   "source": [
    "# Basic Python for ML, Probability, and Stats\n",
    "\n",
    "Detailed explanation will be added to the actual blog post. \n",
    "\n",
    "<a name='1.1'></a>\n",
    "## 1.1 Numpy dot multiplication\n",
    "\n",
    "- Expressing matrices as numpy array is very intuitive. Dot product of matrix is straight forward as well. \n",
    "\n",
    "- Scalar multiplication can also be expressed the same. "
   ]
  },
  {
   "cell_type": "code",
   "execution_count": 15,
   "metadata": {},
   "outputs": [
    {
     "name": "stdout",
     "output_type": "stream",
     "text": [
      "The shape of A is (3, 3)\n",
      "The shape of b is (3, 1)\n",
      "\n",
      "\n",
      "The output generated from dot product method 1 is \n",
      " [[1]\n",
      " [4]\n",
      " [7]]\n",
      "\n",
      "\n",
      "The output generated from dot product method 2 is \n",
      " [[1]\n",
      " [4]\n",
      " [7]]\n",
      "\n",
      "\n",
      "The output generated from scalar multiplication(2) is \n",
      " [[ 2]\n",
      " [ 8]\n",
      " [14]]\n"
     ]
    }
   ],
   "source": [
    "import numpy as np\n",
    "\n",
    "A = np.matrix([[1,2,3], [4,5,6], [7,8,9]])\n",
    "print(f'The shape of A is {A.shape}')\n",
    "b = np.matrix([[1], [0], [0]])\n",
    "print(f'The shape of b is {b.shape}')\n",
    "c = A*b #dot product method 1\n",
    "print('\\n')\n",
    "print(f'The output generated from dot product method 1 is \\n {c}')\n",
    "\n",
    "#this also yields the same output\n",
    "d = A.dot(b)\n",
    "print('\\n')\n",
    "print(f'The output generated from dot product method 2 is \\n {d}')\n",
    "\n",
    "#scalar multiplication\n",
    "constant = 2\n",
    "e = 2*d\n",
    "print('\\n')\n",
    "print(f'The output generated from scalar multiplication(2) is \\n {e}')\n",
    "\n"
   ]
  },
  {
   "cell_type": "markdown",
   "metadata": {},
   "source": [
    "<a name='1.2'></a>\n",
    "## 1.2 Numpy broadcasting \n",
    "\n",
    "Broadcasting (arithmetic operations) goes like this. First create a matrix using `meshgrid`, which creates two 2-d grids (X,Y), which would have coordinates (0,0), (0,1), (1,0), (1,1)"
   ]
  },
  {
   "cell_type": "code",
   "execution_count": 13,
   "metadata": {},
   "outputs": [
    {
     "name": "stdout",
     "output_type": "stream",
     "text": [
      "X has the value \n",
      " [[0 1]\n",
      " [0 1]]\n",
      "Y has the value \n",
      " [[0 0]\n",
      " [1 1]]\n",
      "Z has the value \n",
      " [[0 1]\n",
      " [1 2]]\n"
     ]
    }
   ],
   "source": [
    "X, Y = np.meshgrid(np.arange(2), np.arange(2))\n",
    "print(f'X has the value \\n {X}')\n",
    "print(f'Y has the value \\n {Y}')\n",
    "\n",
    "#Doing simple addition.\n",
    "Z = X+Y\n",
    "print(f'Z has the value \\n {Z}')"
   ]
  },
  {
   "cell_type": "markdown",
   "metadata": {},
   "source": [
    "<a name='1.3'></a>\n",
    "## 1.3 Solving linear equations\n",
    "\n",
    "Say that we have below equation. \n",
    "\n",
    "$$\\begin{cases} \n",
    "-x_1+3x_2=7, \\\\ 3x_1+2x_2=1, \\end{cases}\\tag{1}$$\n"
   ]
  },
  {
   "cell_type": "markdown",
   "metadata": {},
   "source": [
    "Above equation as a augmented matrix is:\n",
    "\n",
    "$$M = \\begin{bmatrix}\n",
    "-1 & 3 & 7\\\\\n",
    "3 & 2 & 1\n",
    "\\end{bmatrix}$$\n",
    "\n",
    "We can choose to express equation and `A` and `b`. If we want to express augmented matrix, we can stack in using `hstack.`\n",
    "\n",
    "- Solving for `AX=B` can be done instantly via `np.linalg.solve(a,b)`."
   ]
  },
  {
   "cell_type": "code",
   "execution_count": 24,
   "metadata": {},
   "outputs": [
    {
     "name": "stdout",
     "output_type": "stream",
     "text": [
      "Augmented matrix has val of \n",
      "[[-1.  3.  7.]\n",
      " [ 3.  2.  1.]]\n",
      "Solution is : [-1.  2.]\n"
     ]
    }
   ],
   "source": [
    "#Expressing this as AX = b\n",
    "A = np.array([\n",
    "        [-1, 3],\n",
    "        [3, 2]\n",
    "    ], dtype=np.dtype(float))\n",
    "\n",
    "b = np.array([7, 1], dtype=np.dtype(float))\n",
    "\n",
    "#hstack. B is (2,) so reshape to (2,1)\n",
    "b_ = b.reshape((2,1))\n",
    "m = np.hstack((A, b_))\n",
    "print(f'Augmented matrix has val of \\n{m}')\n",
    "\n",
    "#solving this only involes \n",
    "x = np.linalg.solve(A, b)\n",
    "print(f\"Solution is : {x}\")"
   ]
  },
  {
   "cell_type": "markdown",
   "metadata": {},
   "source": [
    "<a name='1.4'></a>\n",
    "## 1.4 Getting determinant and rank. \n",
    "\n",
    "- Square matrix can have determinant. \n",
    "- Matrix `A` has non-zero determinant, and therefore it is `non-singular`\n",
    "- Rank can be calculated by calling `matrix_rank`"
   ]
  },
  {
   "cell_type": "code",
   "execution_count": 27,
   "metadata": {},
   "outputs": [
    {
     "name": "stdout",
     "output_type": "stream",
     "text": [
      "Determinant of matrix A: -11.00\n",
      "The matrix rank is  2\n"
     ]
    }
   ],
   "source": [
    "d = np.linalg.det(A)\n",
    "\n",
    "print(f\"Determinant of matrix A: {d:.2f}\")\n",
    "\n",
    "rank = np.linalg.matrix_rank(A)\n",
    "print('The matrix rank is ', rank)"
   ]
  },
  {
   "cell_type": "markdown",
   "metadata": {},
   "source": [
    "<a name='1.5'></a>\n",
    "\n",
    "## 1.5 Equation without solution\n",
    "\n",
    "This question will not have an answer:\n",
    "\n",
    "$$\\begin{cases} \n",
    "-x_1+3x_2=7, \\\\ 3x_1-9x_2=1, \\end{cases}\\tag{5}$$\n",
    "\n",
    "Obviously even without calculating determinant, you can see that the `A` is linearly dependent, and therefore not a full rank matrix. \n",
    "\n",
    "`Determiant` is zero. It cannot have one unique solution. It will have either infininitely many solutions or none. "
   ]
  },
  {
   "cell_type": "code",
   "execution_count": 25,
   "metadata": {},
   "outputs": [
    {
     "name": "stdout",
     "output_type": "stream",
     "text": [
      "Determinant of matrix A_2: 0.00\n"
     ]
    }
   ],
   "source": [
    "A_2 = np.array([\n",
    "        [-1, 3],\n",
    "        [3, -9]\n",
    "    ], dtype=np.dtype(float))\n",
    "\n",
    "b_2 = np.array([7, 1], dtype=np.dtype(float))\n",
    "\n",
    "d_2 = np.linalg.det(A_2)\n",
    "\n",
    "print(f\"Determinant of matrix A_2: {d_2:.2f}\")"
   ]
  },
  {
   "cell_type": "code",
   "execution_count": null,
   "metadata": {},
   "outputs": [],
   "source": []
  }
 ],
 "metadata": {
  "kernelspec": {
   "display_name": "Python 3 (ipykernel)",
   "language": "python",
   "name": "python3"
  },
  "language_info": {
   "codemirror_mode": {
    "name": "ipython",
    "version": 3
   },
   "file_extension": ".py",
   "mimetype": "text/x-python",
   "name": "python",
   "nbconvert_exporter": "python",
   "pygments_lexer": "ipython3",
   "version": "3.9.15"
  },
  "vscode": {
   "interpreter": {
    "hash": "9a7928fa6cb727e6b75099335d2eac3064ba4d14a264a741bbc0631b0bd38016"
   }
  }
 },
 "nbformat": 4,
 "nbformat_minor": 2
}
